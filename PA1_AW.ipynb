{
 "cells": [
  {
   "cell_type": "markdown",
   "id": "fe337a1f",
   "metadata": {},
   "source": [
    "* Anthony Wayman\n",
    "* Assignment 1\n",
    "* Version 1\n",
    "* Fall 2023 "
   ]
  },
  {
   "cell_type": "markdown",
   "id": "dc6b43f9",
   "metadata": {},
   "source": [
    "# Anthony Wayman\n",
    "\n",
    "### I am Anthony Wayman and I have always wanted to learn how to code. I have very little coding experience and am very excited for this class!\n",
    "\n",
    "* Programming Assignments \n",
    "* Quizzes\n",
    "* Attendence/in class completed notebook submission\n",
    "* Midterm Exam (2)\n",
    "* Project (2)\n",
    "\n",
    "1. Course Introduction\n",
    "2. Variables and simple data types\n",
    "3. Introducting lists/tuples\n",
    "4. lists, tuples cont.\n",
    "5. If Statements \n",
    "6. Dictionaries\n",
    "7. Loops\n",
    "8. Loops, cont.\n",
    "9. Functions\n",
    "10. Classes\n",
    "11. Numpy\n",
    "12. Numpy for data analysis\n",
    "13. project 2 disscusion\n",
    "14. Ind. topics presentations \n",
    "15. Midterm 2\n",
    "16. Final Project Presentation\n",
    "\n",
    "**Python**\n",
    "\n",
    "*Jupyter Notebook*\n",
    "\n",
    "`I am ready to code!`\n",
    "\n",
    "<a href=\"https://github.com/Anthony-W0630\">My Github Account</a>\n",
    "\n",
    "![Bellarmine Logo](https://th.bing.com/th/id/OIP.LuE07IZS7ok59B9KmwjwdQHaHa?pid=ImgDet&rs=1)\n",
    "\n",
    "I learned how to use block code\n"
   ]
  }
 ],
 "metadata": {
  "kernelspec": {
   "display_name": "Python 3 (ipykernel)",
   "language": "python",
   "name": "python3"
  },
  "language_info": {
   "codemirror_mode": {
    "name": "ipython",
    "version": 3
   },
   "file_extension": ".py",
   "mimetype": "text/x-python",
   "name": "python",
   "nbconvert_exporter": "python",
   "pygments_lexer": "ipython3",
   "version": "3.10.9"
  }
 },
 "nbformat": 4,
 "nbformat_minor": 5
}
