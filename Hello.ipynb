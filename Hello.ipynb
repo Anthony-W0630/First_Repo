{
 "cells": [
  {
   "cell_type": "markdown",
   "id": "31a11829",
   "metadata": {},
   "source": [
    "# Test Notebook\n",
    "## Anthony Wayman\n",
    "### High-School\n",
    "* Programing with Python "
   ]
  },
  {
   "cell_type": "code",
   "execution_count": null,
   "id": "2d28e369",
   "metadata": {},
   "outputs": [],
   "source": [
    "print(\"hello world\")"
   ]
  }
 ],
 "metadata": {
  "kernelspec": {
   "display_name": "Python 3 (ipykernel)",
   "language": "python",
   "name": "python3"
  },
  "language_info": {
   "codemirror_mode": {
    "name": "ipython",
    "version": 3
   },
   "file_extension": ".py",
   "mimetype": "text/x-python",
   "name": "python",
   "nbconvert_exporter": "python",
   "pygments_lexer": "ipython3",
   "version": "3.10.9"
  }
 },
 "nbformat": 4,
 "nbformat_minor": 5
}
